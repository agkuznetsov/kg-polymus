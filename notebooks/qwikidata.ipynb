{
 "cells": [
  {
   "cell_type": "code",
   "execution_count": 3,
   "metadata": {},
   "outputs": [],
   "source": [
    "#!pip3 install qwikidata"
   ]
  },
  {
   "cell_type": "code",
   "execution_count": 34,
   "metadata": {},
   "outputs": [],
   "source": [
    "from qwikidata.sparql import (return_sparql_query_results)\n",
    "from qwikidata.linked_data_interface import get_entity_dict_from_api\n",
    "\n",
    "\n",
    "def get_entities(request):\n",
    "    sparql_query = '''SELECT ?item ?itemLabel\n",
    "    WHERE { \n",
    "      ?item rdfs:label \"''' + request + '''\"@ru. \n",
    "    } limit 1'''\n",
    "    \n",
    "    res = return_sparql_query_results(sparql_query)\n",
    "    \n",
    "    return res\n",
    "\n",
    "def get_qlink(entity):\n",
    "    if 'results' in entity:\n",
    "        if 'bindings' in entity['results']:\n",
    "            if len(entity['results']['bindings']):\n",
    "                return entity['results']['bindings'][0]['item']['value']\n",
    "            \n",
    "    return None\n",
    "\n",
    "\n",
    "def get_qid(qlink):\n",
    "    return qlink.split('/')[-1]\n",
    "\n",
    "def get_ru_url(q_entity):\n",
    "    page = q_entity['labels']['en']['value']\n",
    "    return f'https://ru.wikipedia.org/wiki/{page}'"
   ]
  },
  {
   "cell_type": "code",
   "execution_count": 35,
   "metadata": {},
   "outputs": [
    {
     "name": "stdout",
     "output_type": "stream",
     "text": [
      "http://www.wikidata.org/entity/Q29719\n",
      "Q29719\n",
      "https://ru.wikipedia.org/wiki/Atom\n"
     ]
    }
   ],
   "source": [
    "qlink = get_qlink(get_entities('Атом'))\n",
    "print(qlink)\n",
    "\n",
    "qid = get_qid(qlink)\n",
    "print(qid)\n",
    "\n",
    "q_entity = get_entity_dict_from_api(qid)\n",
    "print(get_ru_url(qentity))"
   ]
  }
 ],
 "metadata": {
  "kernelspec": {
   "display_name": "Python 3",
   "language": "python",
   "name": "python3"
  },
  "language_info": {
   "codemirror_mode": {
    "name": "ipython",
    "version": 3
   },
   "file_extension": ".py",
   "mimetype": "text/x-python",
   "name": "python",
   "nbconvert_exporter": "python",
   "pygments_lexer": "ipython3",
   "version": "3.9.0"
  }
 },
 "nbformat": 4,
 "nbformat_minor": 4
}
